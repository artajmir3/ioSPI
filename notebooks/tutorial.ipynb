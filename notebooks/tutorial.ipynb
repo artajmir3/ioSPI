{
 "cells": [
  {
   "cell_type": "markdown",
   "metadata": {},
   "source": [
    "# ioSPI\n",
    "In this tutorial we will explain the basic pipeline of ``ioSPI``. Library which provides functionalities to work with cryo-EM data."
   ]
  },
  {
   "cell_type": "markdown",
   "metadata": {},
   "source": [
    "## Particle Metadata\n",
    "\n",
    "In the first part of the tutorial we show how to create a `.star` file using the module `particle_metadata`. This module basically format and write particle metadata as `.star` files, following RELION conventions."
   ]
  },
  {
   "cell_type": "code",
   "execution_count": 1,
   "metadata": {},
   "outputs": [],
   "source": [
    "import os\n",
    "import sys\n",
    "import warnings\n",
    "\n",
    "sys.path.append(os.path.dirname(os.getcwd()))\n",
    "warnings.filterwarnings('ignore')"
   ]
  },
  {
   "cell_type": "markdown",
   "metadata": {},
   "source": [
    "In order to create the `.star` file is necessary to provide information about the experiment, such as the image pixel size and image center shift. This information is passed in the form of a list and a `Config` object."
   ]
  },
  {
   "cell_type": "code",
   "execution_count": 5,
   "metadata": {},
   "outputs": [],
   "source": [
    "from ioSPI import particle_metadata\n",
    "\n",
    "class Config:\n",
    "    \"\"\"Class to instantiate the config object.\"\"\"\n",
    "    def __init__(self, ctf, shift):\n",
    "        self.ctf = ctf\n",
    "        self.shift = shift"
   ]
  },
  {
   "cell_type": "code",
   "execution_count": 6,
   "metadata": {},
   "outputs": [],
   "source": [
    "data_list = [[1, 2, 3, 4, 5, 6, 7, 8, 9, 10, 11, 12, 13, 14]]\n",
    "config = Config(ctf=True, shift=True)"
   ]
  },
  {
   "cell_type": "markdown",
   "metadata": {},
   "source": [
    "The names of the metadata for the star file (in RELION convention) can be accessed using the function `get_starfile_metadata_names` passing a `Config` object."
   ]
  },
  {
   "cell_type": "code",
   "execution_count": 7,
   "metadata": {},
   "outputs": [
    {
     "name": "stdout",
     "output_type": "stream",
     "text": [
      "['__rlnImageName', '__rlnAngleRot', '__rlnAngleTilt', '__rlnAnglePsi', '__rlnOriginX', '__rlnOriginY', '__rlnDefocusU', '__rlnDefocusV', '__rlnDefocusAngle', '__rlnVoltage', '__rlnImagePixelSize', '__rlnSphericalAberration', '__rlnAmplitudeContrast', '__rlnCtfBfactor']\n"
     ]
    }
   ],
   "source": [
    "variable_names = particle_metadata.get_starfile_metadata_names(config)\n",
    "print(variable_names)"
   ]
  },
  {
   "cell_type": "markdown",
   "metadata": {},
   "source": [
    "Using the list of values and the `Config` object it is possible to format the `.star` file that will be later saved with the `format_metadata_for_writing_cryoem_convention` function, which creates a dataframe with the data."
   ]
  },
  {
   "cell_type": "code",
   "execution_count": 8,
   "metadata": {},
   "outputs": [
    {
     "data": {
      "text/html": [
       "<div>\n",
       "<style scoped>\n",
       "    .dataframe tbody tr th:only-of-type {\n",
       "        vertical-align: middle;\n",
       "    }\n",
       "\n",
       "    .dataframe tbody tr th {\n",
       "        vertical-align: top;\n",
       "    }\n",
       "\n",
       "    .dataframe thead th {\n",
       "        text-align: right;\n",
       "    }\n",
       "</style>\n",
       "<table border=\"1\" class=\"dataframe\">\n",
       "  <thead>\n",
       "    <tr style=\"text-align: right;\">\n",
       "      <th></th>\n",
       "      <th>__rlnImageName</th>\n",
       "      <th>__rlnAngleRot</th>\n",
       "      <th>__rlnAngleTilt</th>\n",
       "      <th>__rlnAnglePsi</th>\n",
       "      <th>__rlnOriginX</th>\n",
       "      <th>__rlnOriginY</th>\n",
       "      <th>__rlnDefocusU</th>\n",
       "      <th>__rlnDefocusV</th>\n",
       "      <th>__rlnDefocusAngle</th>\n",
       "      <th>__rlnVoltage</th>\n",
       "      <th>__rlnImagePixelSize</th>\n",
       "      <th>__rlnSphericalAberration</th>\n",
       "      <th>__rlnAmplitudeContrast</th>\n",
       "      <th>__rlnCtfBfactor</th>\n",
       "    </tr>\n",
       "  </thead>\n",
       "  <tbody>\n",
       "    <tr>\n",
       "      <th>0</th>\n",
       "      <td>1</td>\n",
       "      <td>2</td>\n",
       "      <td>3</td>\n",
       "      <td>4</td>\n",
       "      <td>5</td>\n",
       "      <td>6</td>\n",
       "      <td>7</td>\n",
       "      <td>8</td>\n",
       "      <td>9</td>\n",
       "      <td>10</td>\n",
       "      <td>11</td>\n",
       "      <td>12</td>\n",
       "      <td>13</td>\n",
       "      <td>14</td>\n",
       "    </tr>\n",
       "  </tbody>\n",
       "</table>\n",
       "</div>"
      ],
      "text/plain": [
       "   __rlnImageName  __rlnAngleRot  __rlnAngleTilt  __rlnAnglePsi  __rlnOriginX  \\\n",
       "0               1              2               3              4             5   \n",
       "\n",
       "   __rlnOriginY  __rlnDefocusU  __rlnDefocusV  __rlnDefocusAngle  \\\n",
       "0             6              7              8                  9   \n",
       "\n",
       "   __rlnVoltage  __rlnImagePixelSize  __rlnSphericalAberration  \\\n",
       "0            10                   11                        12   \n",
       "\n",
       "   __rlnAmplitudeContrast  __rlnCtfBfactor  \n",
       "0                      13               14  "
      ]
     },
     "execution_count": 8,
     "metadata": {},
     "output_type": "execute_result"
    }
   ],
   "source": [
    "metadata_df = particle_metadata.format_metadata_for_writing_cryoem_convention(data_list=data_list, config=config)\n",
    "metadata_df"
   ]
  },
  {
   "cell_type": "markdown",
   "metadata": {},
   "source": [
    "After formatting the data we can use the function `write_metadata_to_starfile` providing the metadata, the path and name of the star file. "
   ]
  },
  {
   "cell_type": "code",
   "execution_count": 9,
   "metadata": {},
   "outputs": [],
   "source": [
    "metadata_path = os.path.join(os.getcwd(), \"data\")\n",
    "filename = \"metadata.star\"\n",
    "particle_metadata.write_metadata_to_starfile(path=metadata_path, metadata=metadata_df, filename=filename)"
   ]
  },
  {
   "cell_type": "markdown",
   "metadata": {},
   "source": [
    "Finally, we check whether a `.star` file with the name `metadata.star` was created or not, using the function `check_star` function which will raise an exception if the file is not found."
   ]
  },
  {
   "cell_type": "code",
   "execution_count": 10,
   "metadata": {},
   "outputs": [],
   "source": [
    "particle_metadata.check_star_file(os.path.join(metadata_path, filename))"
   ]
  },
  {
   "cell_type": "markdown",
   "metadata": {},
   "source": [
    "The file was successfully created as shown by printing its content."
   ]
  },
  {
   "cell_type": "code",
   "execution_count": 11,
   "metadata": {},
   "outputs": [
    {
     "name": "stdout",
     "output_type": "stream",
     "text": [
      "# Created by the starfile Python package (version 0.4.11) at 11:16:57 on 09/03/2022\n",
      "\n",
      "data_\n",
      "\n",
      "loop_\n",
      "___rlnImageName #1\n",
      "___rlnAngleRot #2\n",
      "___rlnAngleTilt #3\n",
      "___rlnAnglePsi #4\n",
      "___rlnOriginX #5\n",
      "___rlnOriginY #6\n",
      "___rlnDefocusU #7\n",
      "___rlnDefocusV #8\n",
      "___rlnDefocusAngle #9\n",
      "___rlnVoltage #10\n",
      "___rlnImagePixelSize #11\n",
      "___rlnSphericalAberration #12\n",
      "___rlnAmplitudeContrast #13\n",
      "___rlnCtfBfactor #14\n",
      "1\t2\t3\t4\t5\t6\t7\t8\t9\t10\t11\t12\t13\t14\n",
      "\n",
      "\n",
      "\n"
     ]
    }
   ],
   "source": [
    "with open(os.path.join(metadata_path, filename)) as star_file:\n",
    "    print(star_file.read())\n",
    "    star_file.close()"
   ]
  },
  {
   "cell_type": "markdown",
   "metadata": {},
   "source": [
    "# Datasets\n",
    "\n",
    "In the second part of the tutorial we will show how to manage cryo-EM datasets using the `datasets` module from `ioSPI`. This module uses the Open Science Foundation (OSF) framework, which is an initiative that aims to increase the openness, reproducibility and integrity of scientific research. Among other functionalities, it is possible to upload scientific data which can be accessed by an Application Programming Interface (API). ``ioSPI`` offers functionalities that allow uploading and accessing cryo-EM data using the OSF APIv2. This notebook is by no means a tutorial for the OSF API, but we will introduce some basic concepts used here. For more information you can access <https://developer.osf.io/>. The two main components from the OSF that we use here are:\n",
    "\n",
    "* GUID: Every file, project, and component on the OSF gets a Globally Unique ID (GUID). The GUID is the five characters after the <https://osf.io/> in the web address. For instance, we provide cryo-EM Datasets with GUID 24htr. There you will find cryo-EM datasets for different proteins.\n",
    "* Nodes: On OSF files, projects, and components are called nodes, they can be either public or private and it is where the data is contained. For example, <https://osf.io/24htr/> is a node containing cryo-EM data."
   ]
  },
  {
   "cell_type": "code",
   "execution_count": 12,
   "metadata": {},
   "outputs": [],
   "source": [
    "from ioSPI import datasets"
   ]
  },
  {
   "cell_type": "markdown",
   "metadata": {},
   "source": [
    "Before following this tutorial you will have to create your own node for upload cryo-EM data and set an access token. The access token is responsible to manage which actions can be performed by the user who possesses the token. After this step it is possible to instantiate an `OSFUpload` object, to access this OSF node using the OSF API by informing the GUID of the node and the access token. "
   ]
  },
  {
   "cell_type": "code",
   "execution_count": 14,
   "metadata": {},
   "outputs": [
    {
     "name": "stdout",
     "output_type": "stream",
     "text": [
      "\n"
     ]
    }
   ],
   "source": [
    "token = 'PLACE_YOUR_TOKEN_HERE'\n",
    "\n",
    "guid = 'PLACE_YOUR_PARENT_GUID_HERE'\n",
    "\n",
    "osf = datasets.OSFUpload(token = token, data_node_guid= guid)\n",
    "print(osf.headers)"
   ]
  },
  {
   "cell_type": "markdown",
   "metadata": {},
   "source": [
    "Now we will create a child node inside the parent node, for representing the dataset with 80s ribosome data. We will use the pdb id as the name for this new node, and the function will return its GUID. Since the child is also a node, it can accessed separately from the parent node."
   ]
  },
  {
   "cell_type": "code",
   "execution_count": 15,
   "metadata": {},
   "outputs": [
    {
     "name": "stdout",
     "output_type": "stream",
     "text": [
      "8yg32\n"
     ]
    }
   ],
   "source": [
    "pdb_id = '4v6x'\n",
    "child_guid = osf.write_child_node(parent_guid = guid, title = pdb_id)\n",
    "print(child_guid)"
   ]
  },
  {
   "cell_type": "markdown",
   "metadata": {},
   "source": [
    "Having created a child node for putting the files related to the 80s ribosome, we can upload files to it by using the function `write_files`."
   ]
  },
  {
   "cell_type": "code",
   "execution_count": 16,
   "metadata": {},
   "outputs": [
    {
     "name": "stdout",
     "output_type": "stream",
     "text": [
      "Uploaded c:\\Users\\Luis\\Documents\\GitHub\\ioSPI\\notebooks\\4v6x.pdb \n"
     ]
    },
    {
     "data": {
      "text/plain": [
       "True"
      ]
     },
     "execution_count": 16,
     "metadata": {},
     "output_type": "execute_result"
    }
   ],
   "source": [
    "#Create a list of the files to be uploaded\n",
    "file_paths = [os.path.join(os.getcwd(), pdb_id + '.pdb')]\n",
    "\n",
    "#Write files at the child node\n",
    "osf.write_files(dataset_guid = child_guid, file_paths = file_paths)"
   ]
  },
  {
   "cell_type": "markdown",
   "metadata": {},
   "source": [
    "We can now check if it was uploaded correctly by checking if the function `read_structure_guid` will return a GUID corresponding to the pdb id passed as parameter."
   ]
  },
  {
   "cell_type": "code",
   "execution_count": 17,
   "metadata": {},
   "outputs": [
    {
     "data": {
      "text/plain": [
       "'8yg32'"
      ]
     },
     "execution_count": 17,
     "metadata": {},
     "output_type": "execute_result"
    }
   ],
   "source": [
    "osf.read_structure_guid(pdb_id)"
   ]
  }
 ],
 "metadata": {
  "kernelspec": {
   "display_name": "Python 3",
   "language": "python",
   "name": "python3"
  },
  "language_info": {
   "codemirror_mode": {
    "name": "ipython",
    "version": 3
   },
   "file_extension": ".py",
   "mimetype": "text/x-python",
   "name": "python",
   "nbconvert_exporter": "python",
   "pygments_lexer": "ipython3",
   "version": "3.8.12"
  }
 },
 "nbformat": 4,
 "nbformat_minor": 2
}
